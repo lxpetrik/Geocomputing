{
 "cells": [
  {
   "cell_type": "markdown",
   "metadata": {},
   "source": [
    "# Splitting Wildfire Parameters Using Arcpy"
   ]
  },
  {
   "cell_type": "code",
   "execution_count": 42,
   "metadata": {},
   "outputs": [],
   "source": [
    "#will need to set this up on a computer with ArcGIS Pro desktop in order to access Arcpy"
   ]
  },
  {
   "cell_type": "code",
   "execution_count": 1,
   "metadata": {},
   "outputs": [],
   "source": [
    "#import needed libraries\n",
    "import arcpy\n",
    "import arcpy.da\n",
    "import os"
   ]
  },
  {
   "cell_type": "code",
   "execution_count": 2,
   "metadata": {},
   "outputs": [],
   "source": [
    "#calfire database downloaded from 'https://frap.fire.ca.gov/media/50dgwqrb/fire20_1.zip'"
   ]
  },
  {
   "cell_type": "raw",
   "metadata": {},
   "source": [
    "Prior to setting up the environment, I went into ArcPro and limited the fires to the following:\n",
    "No blank start dates\n",
    "Started in 2018 or later\n",
    "Was at least 60+ acres large"
   ]
  },
  {
   "cell_type": "code",
   "execution_count": 3,
   "metadata": {},
   "outputs": [],
   "source": [
    "#Set working environment for the project\n",
    "env = arcpy.env.workspace = r\"C:\\Users\\local_miwvgej\\Documents\\ArcGIS\\Projects\\Calfire\\Calfire2021.gdb\""
   ]
  },
  {
   "cell_type": "code",
   "execution_count": 4,
   "metadata": {},
   "outputs": [
    {
     "name": "stdout",
     "output_type": "stream",
     "text": [
      "['firep20_1', 'rxburn20_1', 'Non_RXFire_Legacy13_2', 'SelectedFires', 'SelectedFires_p']\n",
      "firep20_1\n",
      "rxburn20_1\n",
      "Non_RXFire_Legacy13_2\n",
      "SelectedFires\n",
      "SelectedFires_p\n"
     ]
    }
   ],
   "source": [
    "#listing the feature classes within the environment\n",
    "firelayers = arcpy.ListFeatureClasses()\n",
    "print(firelayers)\n",
    "\n",
    "for fc in firelayers:\n",
    "    print(fc)"
   ]
  },
  {
   "cell_type": "markdown",
   "metadata": {},
   "source": [
    "We may not need to do this next step since we are using Google Earth Engine and the dates are already converted.\n",
    "\n",
    "All NASA files are named using Julian date convention. To get my ALARM_DATE (start date) to line up to their convention I used the !START_DATE!.strftime('%Y%j') method in Arc Pro's calculated field. I named the new field TEXT_DATE. The created a new text string that would match their naming convention and be able to be used in my file naming convention.\n",
    "\n",
    "!ALARM_DATE!.strftime(\"%Y-%m-%d\"). While using ee we don't need to convert to Julian."
   ]
  },
  {
   "cell_type": "code",
   "execution_count": 5,
   "metadata": {
    "scrolled": true
   },
   "outputs": [
    {
     "name": "stdout",
     "output_type": "stream",
     "text": [
      "OBJECTID is a type of OID.\n",
      "Shape is a type of Geometry.\n",
      "YEAR_ is a type of String.\n",
      "STATE is a type of String.\n",
      "AGENCY is a type of String.\n",
      "UNIT_ID is a type of String.\n",
      "FIRE_NAME is a type of String.\n",
      "INC_NUM is a type of String.\n",
      "ALARM_DATE is a type of Date.\n",
      "CONT_DATE is a type of Date.\n",
      "CAUSE is a type of SmallInteger.\n",
      "COMMENTS is a type of String.\n",
      "REPORT_AC is a type of Double.\n",
      "GIS_ACRES is a type of Single.\n",
      "C_METHOD is a type of SmallInteger.\n",
      "OBJECTIVE is a type of SmallInteger.\n",
      "FIRE_NUM is a type of String.\n",
      "TEXT_DATE is a type of String.\n",
      "Shape_Length is a type of Double.\n",
      "Shape_Area is a type of Double.\n"
     ]
    }
   ],
   "source": [
    "#find the field names and types of everything in your featureclass\n",
    "fc = 'SelectedFires_p'\n",
    "fields = arcpy.ListFields(fc)\n",
    "\n",
    "for field in fields:\n",
    "    print(\"{0} is a type of {1}.\"\n",
    "          .format(field.name, field.type))"
   ]
  },
  {
   "cell_type": "code",
   "execution_count": 8,
   "metadata": {},
   "outputs": [],
   "source": [
    "from osgeo import ogr"
   ]
  },
  {
   "cell_type": "code",
   "execution_count": 13,
   "metadata": {},
   "outputs": [
    {
     "name": "stdout",
     "output_type": "stream",
     "text": [
      "None\n"
     ]
    }
   ],
   "source": [
    "\n",
    "os.chdir(r\"C:\\Users\\local_miwvgej\\Documents\\ArcGIS\\Projects\\Calfire\")\n",
    "\n",
    "driver = ogr.GetDriverByName(\"Calfire2021.gdb\")\n",
    "print(driver)"
   ]
  },
  {
   "cell_type": "code",
   "execution_count": null,
   "metadata": {},
   "outputs": [],
   "source": [
    "shapefiles = org.Open(\"SelectedFires_p.shp\")"
   ]
  },
  {
   "cell_type": "code",
   "execution_count": null,
   "metadata": {},
   "outputs": [],
   "source": []
  },
  {
   "cell_type": "code",
   "execution_count": null,
   "metadata": {},
   "outputs": [],
   "source": []
  },
  {
   "cell_type": "code",
   "execution_count": 7,
   "metadata": {
    "scrolled": true
   },
   "outputs": [
    {
     "data": {
      "text/html": [
       "<div class='gpresult'><h2>Messages</h2><div id='messages' data-messages='[\"Start Time: Tuesday, November 16, 2021 8:30:01 PM\",\"Value(s) 1, 2020-06-12 written to C:\\\\Users\\\\local_miwvgej\\\\Documents\\\\ArcGIS\\\\Projects\\\\Calfire\\\\Calfire2021.gdb\\\\T1_2020_06_12.\",\"Value(s) 2, 2020-06-10 written to C:\\\\Users\\\\local_miwvgej\\\\Documents\\\\ArcGIS\\\\Projects\\\\Calfire\\\\Calfire2021.gdb\\\\T2_2020_06_10.\",\"Value(s) 3, 2020-07-28 written to C:\\\\Users\\\\local_miwvgej\\\\Documents\\\\ArcGIS\\\\Projects\\\\Calfire\\\\Calfire2021.gdb\\\\T3_2020_07_28.\",\"Value(s) 4, 2020-08-01 written to C:\\\\Users\\\\local_miwvgej\\\\Documents\\\\ArcGIS\\\\Projects\\\\Calfire\\\\Calfire2021.gdb\\\\T4_2020_08_01.\",\"Value(s) 5, 2020-08-15 written to C:\\\\Users\\\\local_miwvgej\\\\Documents\\\\ArcGIS\\\\Projects\\\\Calfire\\\\Calfire2021.gdb\\\\T5_2020_08_15.\",\"Value(s) 6, 2020-08-12 written to C:\\\\Users\\\\local_miwvgej\\\\Documents\\\\ArcGIS\\\\Projects\\\\Calfire\\\\Calfire2021.gdb\\\\T6_2020_08_12.\",\"Value(s) 7, 2020-06-15 written to C:\\\\Users\\\\local_miwvgej\\\\Documents\\\\ArcGIS\\\\Projects\\\\Calfire\\\\Calfire2021.gdb\\\\T7_2020_06_15.\",\"Value(s) 8, 2020-06-06 written to C:\\\\Users\\\\local_miwvgej\\\\Documents\\\\ArcGIS\\\\Projects\\\\Calfire\\\\Calfire2021.gdb\\\\T8_2020_06_06.\",\"Value(s) 9, 2020-07-04 written to C:\\\\Users\\\\local_miwvgej\\\\Documents\\\\ArcGIS\\\\Projects\\\\Calfire\\\\Calfire2021.gdb\\\\T9_2020_07_04.\",\"Value(s) 10, 2020-07-03 written to C:\\\\Users\\\\local_miwvgej\\\\Documents\\\\ArcGIS\\\\Projects\\\\Calfire\\\\Calfire2021.gdb\\\\T10_2020_07_03.\",\"Succeeded at Tuesday, November 16, 2021 8:30:07 PM (Elapsed Time: 6.24 seconds)\"]' data-show='true'><div id = 'default' /></div></div>"
      ],
      "text/plain": [
       "<Result 'C:\\\\Users\\\\local_miwvgej\\\\Documents\\\\ArcGIS\\\\Projects\\\\Calfire\\\\Calfire2021.gdb'>"
      ]
     },
     "execution_count": 7,
     "metadata": {},
     "output_type": "execute_result"
    }
   ],
   "source": [
    "# Split the fire parimeters by their ObjectID and Text_Date fields.\n",
    "#This will create a new shapefile for each fire and include the start date in the name\n",
    "\n",
    "outloc = r'C:\\Users\\local_miwvgej\\Desktop\\fires'\n",
    "field_list = ['OBJECTID', 'TEXT_DATE']\n",
    "\n",
    "arcpy.SplitByAttributes_analysis(fc, env, field_list)"
   ]
  },
  {
   "cell_type": "markdown",
   "metadata": {},
   "source": [
    "This is where I stopped working in python on this project and switched to command line and R. I was struggling to get gdal to load on my computer."
   ]
  },
  {
   "cell_type": "markdown",
   "metadata": {},
   "source": [
    "Following this, I projected the tif files, then ran the for loops to match the fire parameters to the tifs."
   ]
  },
  {
   "cell_type": "code",
   "execution_count": null,
   "metadata": {},
   "outputs": [],
   "source": [
    "#An example of what the making loop should look like in Python\n",
    "\n",
    "import os\n",
    "\n",
    "pathname1 = \"path1\"\n",
    "pathname2 = \"path2\"\n",
    "uniquecharacters   = 5  # defines how many characters at the end of the string are unique. \n",
    "\n",
    "matches = 0 \n",
    "for item1 in os.listdir(pathname1):    \n",
    "    for item2 in os.listdir(pathname2):\n",
    "        print item1 \n",
    "        print item2\n",
    "        if item1.startswith(item2[:-uniquecharacters]):\n",
    "            print \"we have a match\"\n",
    "            matches = matches + 1 \n",
    "\n",
    "print \"we have %s match(es)\" %( matches )    "
   ]
  },
  {
   "cell_type": "markdown",
   "metadata": {},
   "source": [
    "Data Extrapolation--Predict temporal (trend) extrapolation method. They say this is a critical step. I have no idea how to do this in python.\n",
    "\n",
    "Watch this video: https://www.youtube.com/watch?v=j15MryznWn4"
   ]
  },
  {
   "cell_type": "markdown",
   "metadata": {},
   "source": [
    "Data extraction they use PIL Python Imaging Library. Load the images, read the images, then extract their pix by pix values into a CSV. Each time set will be labeled, fire/no fire."
   ]
  }
 ],
 "metadata": {
  "kernelspec": {
   "display_name": "Python 3",
   "language": "python",
   "name": "python3"
  },
  "language_info": {
   "codemirror_mode": {
    "name": "ipython",
    "version": 3
   },
   "file_extension": ".py",
   "mimetype": "text/x-python",
   "name": "python",
   "nbconvert_exporter": "python",
   "pygments_lexer": "ipython3",
   "version": "3.7.11"
  }
 },
 "nbformat": 4,
 "nbformat_minor": 4
}
