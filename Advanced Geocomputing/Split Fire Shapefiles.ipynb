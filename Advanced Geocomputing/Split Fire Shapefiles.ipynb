{
 "cells": [
  {
   "cell_type": "markdown",
   "metadata": {},
   "source": [
    "# Splitting Wildfire Parameters Using Arcpy"
   ]
  },
  {
   "cell_type": "code",
   "execution_count": 3,
   "metadata": {},
   "outputs": [],
   "source": [
    "#will need to set this up on a computer with ArcGIS Pro desktop in order to access Arcpy"
   ]
  },
  {
   "cell_type": "code",
   "execution_count": 1,
   "metadata": {},
   "outputs": [
    {
     "ename": "ModuleNotFoundError",
     "evalue": "No module named 'arcpy'",
     "output_type": "error",
     "traceback": [
      "\u001b[0;31m---------------------------------------------------------------------------\u001b[0m",
      "\u001b[0;31mModuleNotFoundError\u001b[0m                       Traceback (most recent call last)",
      "\u001b[0;32m/var/folders/lf/z51zwvcx5fj_3dmt3xsb4mch0000gn/T/ipykernel_29324/55739981.py\u001b[0m in \u001b[0;36m<module>\u001b[0;34m\u001b[0m\n\u001b[1;32m      1\u001b[0m \u001b[0;31m#import needed libraries\u001b[0m\u001b[0;34m\u001b[0m\u001b[0;34m\u001b[0m\u001b[0;34m\u001b[0m\u001b[0m\n\u001b[0;32m----> 2\u001b[0;31m \u001b[0;32mimport\u001b[0m \u001b[0marcpy\u001b[0m\u001b[0;34m\u001b[0m\u001b[0;34m\u001b[0m\u001b[0m\n\u001b[0m\u001b[1;32m      3\u001b[0m \u001b[0;32mimport\u001b[0m \u001b[0marcpy\u001b[0m\u001b[0;34m.\u001b[0m\u001b[0mda\u001b[0m\u001b[0;34m\u001b[0m\u001b[0;34m\u001b[0m\u001b[0m\n\u001b[1;32m      4\u001b[0m \u001b[0;32mimport\u001b[0m \u001b[0mos\u001b[0m\u001b[0;34m\u001b[0m\u001b[0;34m\u001b[0m\u001b[0m\n",
      "\u001b[0;31mModuleNotFoundError\u001b[0m: No module named 'arcpy'"
     ]
    }
   ],
   "source": [
    "#import needed libraries\n",
    "import arcpy\n",
    "import arcpy.da\n",
    "import os"
   ]
  },
  {
   "cell_type": "code",
   "execution_count": 4,
   "metadata": {},
   "outputs": [
    {
     "ename": "NameError",
     "evalue": "name 'os' is not defined",
     "output_type": "error",
     "traceback": [
      "\u001b[0;31m---------------------------------------------------------------------------\u001b[0m",
      "\u001b[0;31mNameError\u001b[0m                                 Traceback (most recent call last)",
      "\u001b[0;32m/var/folders/lf/z51zwvcx5fj_3dmt3xsb4mch0000gn/T/ipykernel_29324/672867462.py\u001b[0m in \u001b[0;36m<module>\u001b[0;34m\u001b[0m\n\u001b[1;32m      1\u001b[0m \u001b[0;31m#setting my working directory\u001b[0m\u001b[0;34m\u001b[0m\u001b[0;34m\u001b[0m\u001b[0;34m\u001b[0m\u001b[0m\n\u001b[0;32m----> 2\u001b[0;31m \u001b[0mos\u001b[0m\u001b[0;34m.\u001b[0m\u001b[0mchdir\u001b[0m\u001b[0;34m(\u001b[0m\u001b[0;34m'/Users/petri142/Wildfire_proj'\u001b[0m\u001b[0;34m)\u001b[0m\u001b[0;34m\u001b[0m\u001b[0;34m\u001b[0m\u001b[0m\n\u001b[0m",
      "\u001b[0;31mNameError\u001b[0m: name 'os' is not defined"
     ]
    }
   ],
   "source": [
    "#setting my working directory\n",
    "os.chdir('/Users/petri142/Wildfire_proj')"
   ]
  },
  {
   "cell_type": "code",
   "execution_count": null,
   "metadata": {},
   "outputs": [],
   "source": [
    "#calfire geodatabase website download: https://frap.fire.ca.gov/media/50dgwqrb/fire20_1.zip"
   ]
  },
  {
   "cell_type": "code",
   "execution_count": null,
   "metadata": {},
   "outputs": [],
   "source": [
    "#defining a function to download a zip and unzip it in my desired location\n",
    "def download_data(dw_url,destination):\n",
    "    import wget\n",
    "    import zipfile\n",
    "    \n",
    "    filename = wget.download(dw_url)\n",
    "    print(\"Successfully downloaded\", filename)\n",
    "    \n",
    "    with zipfile.ZipFile(destination + \"/\" + filename, 'r') as zip_ref:\n",
    "        zip_ref.extractall(destination)"
   ]
  },
  {
   "cell_type": "code",
   "execution_count": null,
   "metadata": {},
   "outputs": [],
   "source": [
    "download_data('https://frap.fire.ca.gov/media/50dgwqrb/fire20_1.zip','/Users/petri142/Wildfire_proj')"
   ]
  },
  {
   "cell_type": "raw",
   "metadata": {},
   "source": [
    "Prior to setting up the environment, I went into ArcPro and limited the fires to the following:\n",
    "No blank start or end dates\n",
    "Started in 2018 or later\n",
    "Was at least 60+ acres large"
   ]
  },
  {
   "cell_type": "code",
   "execution_count": 11,
   "metadata": {},
   "outputs": [],
   "source": [
    "#Set working environment for the project\n",
    "env = arcpy.env.workspace = r\"C:\\Users\\local_miwvgej\\Documents\\ArcGIS\\Projects\\Calfire\\Calfire.gdb\""
   ]
  },
  {
   "cell_type": "code",
   "execution_count": 12,
   "metadata": {},
   "outputs": [
    {
     "name": "stdout",
     "output_type": "stream",
     "text": [
      "['fire_parimeters2', 'fire_parimeters2_Project', 'fire_parimeters2_Project2', 'fire_parimeters3', 'fire_parimeters']\n",
      "fire_parimeters2\n",
      "fire_parimeters2_Project\n",
      "fire_parimeters2_Project2\n",
      "fire_parimeters3\n",
      "fire_parimeters\n"
     ]
    }
   ],
   "source": [
    "#listing the feature classes within the environment\n",
    "firelayer = arcpy.ListFeatureClasses()\n",
    "print(firelayer)\n",
    "\n",
    "for fc in firelayer:\n",
    "    print(fc)"
   ]
  },
  {
   "cell_type": "markdown",
   "metadata": {},
   "source": [
    "We may not need to do this next step since we are using Google Earth Engine and the dates are already converted.\n",
    "\n",
    "All NASA files are named using Julian date convention. To get my START_DATE to line up to their convention I used the !START_DATE!.strftime('%Y%j') method in Arc Pro's calculated field. I named the new field TEXT_DATE. The created a new text string that would match their naming convention and be able to be used in my file naming convention."
   ]
  },
  {
   "cell_type": "code",
   "execution_count": 13,
   "metadata": {},
   "outputs": [
    {
     "name": "stdout",
     "output_type": "stream",
     "text": [
      "OBJECTID is a type of OID.\n",
      "Shape is a type of Geometry.\n",
      "STATE is a type of String.\n",
      "FIRE_NAME is a type of String.\n",
      "START_DATE is a type of Date.\n",
      "END_DATE is a type of Date.\n",
      "ACRES is a type of Single.\n",
      "TEXT_DATE is a type of String.\n",
      "Shape_Leng is a type of Double.\n",
      "Shape_Length is a type of Double.\n",
      "Shape_Area is a type of Double.\n"
     ]
    }
   ],
   "source": [
    "#find the field names and types of everything in your featureclass\n",
    "fc = 'fire_parimeters'\n",
    "fields = arcpy.ListFields(fc)\n",
    "\n",
    "for field in fields:\n",
    "    print(\"{0} is a type of {1}.\"\n",
    "          .format(field.name, field.type))"
   ]
  },
  {
   "cell_type": "code",
   "execution_count": 14,
   "metadata": {
    "scrolled": true
   },
   "outputs": [
    {
     "data": {
      "text/html": [
       "<h2>Output</h2>C:\\Users\\local_miwvgej\\Desktop\\Wildfire_proj\\fireshapes_p<h2>Messages</h2>Start Time: Sunday, April 4, 2021 2:15:21 PM<br/>Value(s) 1, 2018140 written to C:\\Users\\local_miwvgej\\Desktop\\Wildfire_proj\\fireshapes_p\\1_2018140.shp.<br/>Value(s) 2, 2018163 written to C:\\Users\\local_miwvgej\\Desktop\\Wildfire_proj\\fireshapes_p\\2_2018163.shp.<br/>Value(s) 3, 2018185 written to C:\\Users\\local_miwvgej\\Desktop\\Wildfire_proj\\fireshapes_p\\3_2018185.shp.<br/>Value(s) 4, 2018187 written to C:\\Users\\local_miwvgej\\Desktop\\Wildfire_proj\\fireshapes_p\\4_2018187.shp.<br/>Value(s) 5, 2018213 written to C:\\Users\\local_miwvgej\\Desktop\\Wildfire_proj\\fireshapes_p\\5_2018213.shp.<br/>Value(s) 6, 2018213 written to C:\\Users\\local_miwvgej\\Desktop\\Wildfire_proj\\fireshapes_p\\6_2018213.shp.<br/>Value(s) 7, 2018247 written to C:\\Users\\local_miwvgej\\Desktop\\Wildfire_proj\\fireshapes_p\\7_2018247.shp.<br/>Value(s) 8, 2018214 written to C:\\Users\\local_miwvgej\\Desktop\\Wildfire_proj\\fireshapes_p\\8_2018214.shp.<br/>Value(s) 9, 2018109 written to C:\\Users\\local_miwvgej\\Desktop\\Wildfire_proj\\fireshapes_p\\9_2018109.shp.<br/>Value(s) 10, 2018049 written to C:\\Users\\local_miwvgej\\Desktop\\Wildfire_proj\\fireshapes_p\\10_2018049.shp.<br/>Value(s) 11, 2018193 written to C:\\Users\\local_miwvgej\\Desktop\\Wildfire_proj\\fireshapes_p\\11_2018193.shp.<br/>Value(s) 12, 2018303 written to C:\\Users\\local_miwvgej\\Desktop\\Wildfire_proj\\fireshapes_p\\12_2018303.shp.<br/>Value(s) 13, 2018312 written to C:\\Users\\local_miwvgej\\Desktop\\Wildfire_proj\\fireshapes_p\\13_2018312.shp.<br/>Value(s) 14, 2018178 written to C:\\Users\\local_miwvgej\\Desktop\\Wildfire_proj\\fireshapes_p\\14_2018178.shp.<br/>Value(s) 15, 2018146 written to C:\\Users\\local_miwvgej\\Desktop\\Wildfire_proj\\fireshapes_p\\15_2018146.shp.<br/>Value(s) 16, 2018166 written to C:\\Users\\local_miwvgej\\Desktop\\Wildfire_proj\\fireshapes_p\\16_2018166.shp.<br/>Value(s) 17, 2018265 written to C:\\Users\\local_miwvgej\\Desktop\\Wildfire_proj\\fireshapes_p\\17_2018265.shp.<br/>Value(s) 18, 2018122 written to C:\\Users\\local_miwvgej\\Desktop\\Wildfire_proj\\fireshapes_p\\18_2018122.shp.<br/>Value(s) 19, 2018155 written to C:\\Users\\local_miwvgej\\Desktop\\Wildfire_proj\\fireshapes_p\\19_2018155.shp.<br/>Value(s) 20, 2018169 written to C:\\Users\\local_miwvgej\\Desktop\\Wildfire_proj\\fireshapes_p\\20_2018169.shp.<br/>Value(s) 21, 2018213 written to C:\\Users\\local_miwvgej\\Desktop\\Wildfire_proj\\fireshapes_p\\21_2018213.shp.<br/>Value(s) 22, 2018157 written to C:\\Users\\local_miwvgej\\Desktop\\Wildfire_proj\\fireshapes_p\\22_2018157.shp.<br/>Value(s) 23, 2018218 written to C:\\Users\\local_miwvgej\\Desktop\\Wildfire_proj\\fireshapes_p\\23_2018218.shp.<br/>Value(s) 24, 2018212 written to C:\\Users\\local_miwvgej\\Desktop\\Wildfire_proj\\fireshapes_p\\24_2018212.shp.<br/>Value(s) 25, 2018180 written to C:\\Users\\local_miwvgej\\Desktop\\Wildfire_proj\\fireshapes_p\\25_2018180.shp.<br/>Value(s) 26, 2018203 written to C:\\Users\\local_miwvgej\\Desktop\\Wildfire_proj\\fireshapes_p\\26_2018203.shp.<br/>Value(s) 27, 2018190 written to C:\\Users\\local_miwvgej\\Desktop\\Wildfire_proj\\fireshapes_p\\27_2018190.shp.<br/>Value(s) 28, 2018207 written to C:\\Users\\local_miwvgej\\Desktop\\Wildfire_proj\\fireshapes_p\\28_2018207.shp.<br/>Value(s) 29, 2018160 written to C:\\Users\\local_miwvgej\\Desktop\\Wildfire_proj\\fireshapes_p\\29_2018160.shp.<br/>Value(s) 30, 2018148 written to C:\\Users\\local_miwvgej\\Desktop\\Wildfire_proj\\fireshapes_p\\30_2018148.shp.<br/>Value(s) 31, 2018160 written to C:\\Users\\local_miwvgej\\Desktop\\Wildfire_proj\\fireshapes_p\\31_2018160.shp.<br/>Value(s) 32, 2018227 written to C:\\Users\\local_miwvgej\\Desktop\\Wildfire_proj\\fireshapes_p\\32_2018227.shp.<br/>Value(s) 33, 2018209 written to C:\\Users\\local_miwvgej\\Desktop\\Wildfire_proj\\fireshapes_p\\33_2018209.shp.<br/>Value(s) 34, 2018157 written to C:\\Users\\local_miwvgej\\Desktop\\Wildfire_proj\\fireshapes_p\\34_2018157.shp.<br/>Value(s) 35, 2018187 written to C:\\Users\\local_miwvgej\\Desktop\\Wildfire_proj\\fireshapes_p\\35_2018187.shp.<br/>Value(s) 36, 2018199 written to C:\\Users\\local_miwvgej\\Desktop\\Wildfire_proj\\fireshapes_p\\36_2018199.shp.<br/>Value(s) 37, 2018201 written to C:\\Users\\local_miwvgej\\Desktop\\Wildfire_proj\\fireshapes_p\\37_2018201.shp.<br/>Value(s) 38, 2018155 written to C:\\Users\\local_miwvgej\\Desktop\\Wildfire_proj\\fireshapes_p\\38_2018155.shp.<br/>Value(s) 39, 2018163 written to C:\\Users\\local_miwvgej\\Desktop\\Wildfire_proj\\fireshapes_p\\39_2018163.shp.<br/>Value(s) 40, 2018218 written to C:\\Users\\local_miwvgej\\Desktop\\Wildfire_proj\\fireshapes_p\\40_2018218.shp.<br/>Value(s) 41, 2018223 written to C:\\Users\\local_miwvgej\\Desktop\\Wildfire_proj\\fireshapes_p\\41_2018223.shp.<br/>Value(s) 42, 2018256 written to C:\\Users\\local_miwvgej\\Desktop\\Wildfire_proj\\fireshapes_p\\42_2018256.shp.<br/>Value(s) 43, 2018286 written to C:\\Users\\local_miwvgej\\Desktop\\Wildfire_proj\\fireshapes_p\\43_2018286.shp.<br/>Value(s) 44, 2018192 written to C:\\Users\\local_miwvgej\\Desktop\\Wildfire_proj\\fireshapes_p\\44_2018192.shp.<br/>Value(s) 45, 2018193 written to C:\\Users\\local_miwvgej\\Desktop\\Wildfire_proj\\fireshapes_p\\45_2018193.shp.<br/>Value(s) 46, 2018176 written to C:\\Users\\local_miwvgej\\Desktop\\Wildfire_proj\\fireshapes_p\\46_2018176.shp.<br/>Value(s) 47, 2018316 written to C:\\Users\\local_miwvgej\\Desktop\\Wildfire_proj\\fireshapes_p\\47_2018316.shp.<br/>Value(s) 48, 2018319 written to C:\\Users\\local_miwvgej\\Desktop\\Wildfire_proj\\fireshapes_p\\48_2018319.shp.<br/>Value(s) 49, 2018261 written to C:\\Users\\local_miwvgej\\Desktop\\Wildfire_proj\\fireshapes_p\\49_2018261.shp.<br/>Value(s) 50, 2018312 written to C:\\Users\\local_miwvgej\\Desktop\\Wildfire_proj\\fireshapes_p\\50_2018312.shp.<br/>Value(s) 51, 2018215 written to C:\\Users\\local_miwvgej\\Desktop\\Wildfire_proj\\fireshapes_p\\51_2018215.shp.<br/>Value(s) 52, 2018228 written to C:\\Users\\local_miwvgej\\Desktop\\Wildfire_proj\\fireshapes_p\\52_2018228.shp.<br/>Value(s) 53, 2018255 written to C:\\Users\\local_miwvgej\\Desktop\\Wildfire_proj\\fireshapes_p\\53_2018255.shp.<br/>Value(s) 54, 2018180 written to C:\\Users\\local_miwvgej\\Desktop\\Wildfire_proj\\fireshapes_p\\54_2018180.shp.<br/>Value(s) 55, 2018175 written to C:\\Users\\local_miwvgej\\Desktop\\Wildfire_proj\\fireshapes_p\\55_2018175.shp.<br/>Value(s) 56, 2018176 written to C:\\Users\\local_miwvgej\\Desktop\\Wildfire_proj\\fireshapes_p\\56_2018176.shp.<br/>Value(s) 57, 2018197 written to C:\\Users\\local_miwvgej\\Desktop\\Wildfire_proj\\fireshapes_p\\57_2018197.shp.<br/>Value(s) 58, 2018218 written to C:\\Users\\local_miwvgej\\Desktop\\Wildfire_proj\\fireshapes_p\\58_2018218.shp.<br/>Value(s) 59, 2018252 written to C:\\Users\\local_miwvgej\\Desktop\\Wildfire_proj\\fireshapes_p\\59_2018252.shp.<br/>Value(s) 60, 2018217 written to C:\\Users\\local_miwvgej\\Desktop\\Wildfire_proj\\fireshapes_p\\60_2018217.shp.<br/>Value(s) 61, 2018153 written to C:\\Users\\local_miwvgej\\Desktop\\Wildfire_proj\\fireshapes_p\\61_2018153.shp.<br/>Value(s) 62, 2018162 written to C:\\Users\\local_miwvgej\\Desktop\\Wildfire_proj\\fireshapes_p\\62_2018162.shp.<br/>Value(s) 63, 2018199 written to C:\\Users\\local_miwvgej\\Desktop\\Wildfire_proj\\fireshapes_p\\63_2018199.shp.<br/>Value(s) 64, 2018181 written to C:\\Users\\local_miwvgej\\Desktop\\Wildfire_proj\\fireshapes_p\\64_2018181.shp.<br/>Value(s) 65, 2018209 written to C:\\Users\\local_miwvgej\\Desktop\\Wildfire_proj\\fireshapes_p\\65_2018209.shp.<br/>Value(s) 66, 2018222 written to C:\\Users\\local_miwvgej\\Desktop\\Wildfire_proj\\fireshapes_p\\66_2018222.shp.<br/>Value(s) 67, 2018238 written to C:\\Users\\local_miwvgej\\Desktop\\Wildfire_proj\\fireshapes_p\\67_2018238.shp.<br/>Value(s) 68, 2018251 written to C:\\Users\\local_miwvgej\\Desktop\\Wildfire_proj\\fireshapes_p\\68_2018251.shp.<br/>Value(s) 69, 2018208 written to C:\\Users\\local_miwvgej\\Desktop\\Wildfire_proj\\fireshapes_p\\69_2018208.shp.<br/>Value(s) 70, 2018208 written to C:\\Users\\local_miwvgej\\Desktop\\Wildfire_proj\\fireshapes_p\\70_2018208.shp.<br/>Value(s) 71, 2018164 written to C:\\Users\\local_miwvgej\\Desktop\\Wildfire_proj\\fireshapes_p\\71_2018164.shp.<br/>Value(s) 72, 2018137 written to C:\\Users\\local_miwvgej\\Desktop\\Wildfire_proj\\fireshapes_p\\72_2018137.shp.<br/>Value(s) 73, 2018160 written to C:\\Users\\local_miwvgej\\Desktop\\Wildfire_proj\\fireshapes_p\\73_2018160.shp.<br/>Value(s) 74, 2018204 written to C:\\Users\\local_miwvgej\\Desktop\\Wildfire_proj\\fireshapes_p\\74_2018204.shp.<br/>Value(s) 75, 2018155 written to C:\\Users\\local_miwvgej\\Desktop\\Wildfire_proj\\fireshapes_p\\75_2018155.shp.<br/>Value(s) 76, 2018265 written to C:\\Users\\local_miwvgej\\Desktop\\Wildfire_proj\\fireshapes_p\\76_2018265.shp.<br/>Value(s) 77, 2018312 written to C:\\Users\\local_miwvgej\\Desktop\\Wildfire_proj\\fireshapes_p\\77_2018312.shp.<br/>Value(s) 78, 2018252 written to C:\\Users\\local_miwvgej\\Desktop\\Wildfire_proj\\fireshapes_p\\78_2018252.shp.<br/>Value(s) 79, 2018177 written to C:\\Users\\local_miwvgej\\Desktop\\Wildfire_proj\\fireshapes_p\\79_2018177.shp.<br/>Value(s) 80, 2018243 written to C:\\Users\\local_miwvgej\\Desktop\\Wildfire_proj\\fireshapes_p\\80_2018243.shp.<br/>Value(s) 81, 2018172 written to C:\\Users\\local_miwvgej\\Desktop\\Wildfire_proj\\fireshapes_p\\81_2018172.shp.<br/>Value(s) 82, 2018210 written to C:\\Users\\local_miwvgej\\Desktop\\Wildfire_proj\\fireshapes_p\\82_2018210.shp.<br/>Value(s) 83, 2018190 written to C:\\Users\\local_miwvgej\\Desktop\\Wildfire_proj\\fireshapes_p\\83_2018190.shp.<br/>Value(s) 84, 2018187 written to C:\\Users\\local_miwvgej\\Desktop\\Wildfire_proj\\fireshapes_p\\84_2018187.shp.<br/>Value(s) 85, 2018212 written to C:\\Users\\local_miwvgej\\Desktop\\Wildfire_proj\\fireshapes_p\\85_2018212.shp.<br/>Value(s) 86, 2018189 written to C:\\Users\\local_miwvgej\\Desktop\\Wildfire_proj\\fireshapes_p\\86_2018189.shp.<br/>Value(s) 87, 2018212 written to C:\\Users\\local_miwvgej\\Desktop\\Wildfire_proj\\fireshapes_p\\87_2018212.shp.<br/>Value(s) 88, 2018152 written to C:\\Users\\local_miwvgej\\Desktop\\Wildfire_proj\\fireshapes_p\\88_2018152.shp.<br/>Value(s) 89, 2018252 written to C:\\Users\\local_miwvgej\\Desktop\\Wildfire_proj\\fireshapes_p\\89_2018252.shp.<br/>Value(s) 90, 2018155 written to C:\\Users\\local_miwvgej\\Desktop\\Wildfire_proj\\fireshapes_p\\90_2018155.shp.<br/>Value(s) 91, 2018231 written to C:\\Users\\local_miwvgej\\Desktop\\Wildfire_proj\\fireshapes_p\\91_2018231.shp.<br/>Value(s) 92, 2018174 written to C:\\Users\\local_miwvgej\\Desktop\\Wildfire_proj\\fireshapes_p\\92_2018174.shp.<br/>Value(s) 93, 2018244 written to C:\\Users\\local_miwvgej\\Desktop\\Wildfire_proj\\fireshapes_p\\93_2018244.shp.<br/>Value(s) 94, 2018141 written to C:\\Users\\local_miwvgej\\Desktop\\Wildfire_proj\\fireshapes_p\\94_2018141.shp.<br/>Value(s) 95, 2018286 written to C:\\Users\\local_miwvgej\\Desktop\\Wildfire_proj\\fireshapes_p\\95_2018286.shp.<br/>Value(s) 96, 2018277 written to C:\\Users\\local_miwvgej\\Desktop\\Wildfire_proj\\fireshapes_p\\96_2018277.shp.<br/>Value(s) 97, 2018230 written to C:\\Users\\local_miwvgej\\Desktop\\Wildfire_proj\\fireshapes_p\\97_2018230.shp.<br/>Value(s) 98, 2018246 written to C:\\Users\\local_miwvgej\\Desktop\\Wildfire_proj\\fireshapes_p\\98_2018246.shp.<br/>Value(s) 99, 2018187 written to C:\\Users\\local_miwvgej\\Desktop\\Wildfire_proj\\fireshapes_p\\99_2018187.shp.<br/>Value(s) 100, 2018200 written to C:\\Users\\local_miwvgej\\Desktop\\Wildfire_proj\\fireshapes_p\\100_2018200.shp.<br/>Value(s) 101, 2018218 written to C:\\Users\\local_miwvgej\\Desktop\\Wildfire_proj\\fireshapes_p\\101_2018218.shp.<br/>Value(s) 102, 2018205 written to C:\\Users\\local_miwvgej\\Desktop\\Wildfire_proj\\fireshapes_p\\102_2018205.shp.<br/>Value(s) 103, 2018219 written to C:\\Users\\local_miwvgej\\Desktop\\Wildfire_proj\\fireshapes_p\\103_2018219.shp.<br/>Value(s) 104, 2018194 written to C:\\Users\\local_miwvgej\\Desktop\\Wildfire_proj\\fireshapes_p\\104_2018194.shp.<br/>Value(s) 105, 2018170 written to C:\\Users\\local_miwvgej\\Desktop\\Wildfire_proj\\fireshapes_p\\105_2018170.shp.<br/>Value(s) 106, 2018187 written to C:\\Users\\local_miwvgej\\Desktop\\Wildfire_proj\\fireshapes_p\\106_2018187.shp.<br/>Value(s) 107, 2018257 written to C:\\Users\\local_miwvgej\\Desktop\\Wildfire_proj\\fireshapes_p\\107_2018257.shp.<br/>Value(s) 108, 2018209 written to C:\\Users\\local_miwvgej\\Desktop\\Wildfire_proj\\fireshapes_p\\108_2018209.shp.<br/>Value(s) 109, 2018212 written to C:\\Users\\local_miwvgej\\Desktop\\Wildfire_proj\\fireshapes_p\\109_2018212.shp.<br/>Value(s) 110, 2018086 written to C:\\Users\\local_miwvgej\\Desktop\\Wildfire_proj\\fireshapes_p\\110_2018086.shp.<br/>Value(s) 111, 2018277 written to C:\\Users\\local_miwvgej\\Desktop\\Wildfire_proj\\fireshapes_p\\111_2018277.shp.<br/>Value(s) 112, 2018286 written to C:\\Users\\local_miwvgej\\Desktop\\Wildfire_proj\\fireshapes_p\\112_2018286.shp.<br/>Value(s) 113, 2018247 written to C:\\Users\\local_miwvgej\\Desktop\\Wildfire_proj\\fireshapes_p\\113_2018247.shp.<br/>Value(s) 114, 2018213 written to C:\\Users\\local_miwvgej\\Desktop\\Wildfire_proj\\fireshapes_p\\114_2018213.shp.<br/>Value(s) 115, 2018190 written to C:\\Users\\local_miwvgej\\Desktop\\Wildfire_proj\\fireshapes_p\\115_2018190.shp.<br/>Value(s) 116, 2018174 written to C:\\Users\\local_miwvgej\\Desktop\\Wildfire_proj\\fireshapes_p\\116_2018174.shp.<br/>Value(s) 117, 2018144 written to C:\\Users\\local_miwvgej\\Desktop\\Wildfire_proj\\fireshapes_p\\117_2018144.shp.<br/>Value(s) 118, 2018272 written to C:\\Users\\local_miwvgej\\Desktop\\Wildfire_proj\\fireshapes_p\\118_2018272.shp.<br/>Value(s) 119, 2019304 written to C:\\Users\\local_miwvgej\\Desktop\\Wildfire_proj\\fireshapes_p\\119_2019304.shp.<br/>Value(s) 120, 2019303 written to C:\\Users\\local_miwvgej\\Desktop\\Wildfire_proj\\fireshapes_p\\120_2019303.shp.<br/>Value(s) 121, 2019284 written to C:\\Users\\local_miwvgej\\Desktop\\Wildfire_proj\\fireshapes_p\\121_2019284.shp.<br/>Value(s) 122, 2019195 written to C:\\Users\\local_miwvgej\\Desktop\\Wildfire_proj\\fireshapes_p\\122_2019195.shp.<br/>Value(s) 123, 2019249 written to C:\\Users\\local_miwvgej\\Desktop\\Wildfire_proj\\fireshapes_p\\123_2019249.shp.<br/>Value(s) 124, 2019243 written to C:\\Users\\local_miwvgej\\Desktop\\Wildfire_proj\\fireshapes_p\\124_2019243.shp.<br/>Value(s) 125, 2019253 written to C:\\Users\\local_miwvgej\\Desktop\\Wildfire_proj\\fireshapes_p\\125_2019253.shp.<br/>Value(s) 126, 2019290 written to C:\\Users\\local_miwvgej\\Desktop\\Wildfire_proj\\fireshapes_p\\126_2019290.shp.<br/>Value(s) 127, 2019127 written to C:\\Users\\local_miwvgej\\Desktop\\Wildfire_proj\\fireshapes_p\\127_2019127.shp.<br/>Value(s) 128, 2019123 written to C:\\Users\\local_miwvgej\\Desktop\\Wildfire_proj\\fireshapes_p\\128_2019123.shp.<br/>Value(s) 129, 2019212 written to C:\\Users\\local_miwvgej\\Desktop\\Wildfire_proj\\fireshapes_p\\129_2019212.shp.<br/>Value(s) 130, 2019280 written to C:\\Users\\local_miwvgej\\Desktop\\Wildfire_proj\\fireshapes_p\\130_2019280.shp.<br/>Value(s) 131, 2019308 written to C:\\Users\\local_miwvgej\\Desktop\\Wildfire_proj\\fireshapes_p\\131_2019308.shp.<br/>Value(s) 132, 2019296 written to C:\\Users\\local_miwvgej\\Desktop\\Wildfire_proj\\fireshapes_p\\132_2019296.shp.<br/>Value(s) 133, 2019279 written to C:\\Users\\local_miwvgej\\Desktop\\Wildfire_proj\\fireshapes_p\\133_2019279.shp.<br/>Value(s) 134, 2019159 written to C:\\Users\\local_miwvgej\\Desktop\\Wildfire_proj\\fireshapes_p\\134_2019159.shp.<br/>Value(s) 135, 2019267 written to C:\\Users\\local_miwvgej\\Desktop\\Wildfire_proj\\fireshapes_p\\135_2019267.shp.<br/>Value(s) 136, 2019209 written to C:\\Users\\local_miwvgej\\Desktop\\Wildfire_proj\\fireshapes_p\\136_2019209.shp.<br/>Value(s) 137, 2019193 written to C:\\Users\\local_miwvgej\\Desktop\\Wildfire_proj\\fireshapes_p\\137_2019193.shp.<br/>Value(s) 138, 2019303 written to C:\\Users\\local_miwvgej\\Desktop\\Wildfire_proj\\fireshapes_p\\138_2019303.shp.<br/>Value(s) 139, 2019227 written to C:\\Users\\local_miwvgej\\Desktop\\Wildfire_proj\\fireshapes_p\\139_2019227.shp.<br/>Value(s) 140, 2019298 written to C:\\Users\\local_miwvgej\\Desktop\\Wildfire_proj\\fireshapes_p\\140_2019298.shp.<br/>Value(s) 141, 2019214 written to C:\\Users\\local_miwvgej\\Desktop\\Wildfire_proj\\fireshapes_p\\141_2019214.shp.<br/>Value(s) 142, 2019246 written to C:\\Users\\local_miwvgej\\Desktop\\Wildfire_proj\\fireshapes_p\\142_2019246.shp.<br/>Value(s) 143, 2019174 written to C:\\Users\\local_miwvgej\\Desktop\\Wildfire_proj\\fireshapes_p\\143_2019174.shp.<br/>Value(s) 144, 2019149 written to C:\\Users\\local_miwvgej\\Desktop\\Wildfire_proj\\fireshapes_p\\144_2019149.shp.<br/>Value(s) 145, 2019291 written to C:\\Users\\local_miwvgej\\Desktop\\Wildfire_proj\\fireshapes_p\\145_2019291.shp.<br/>Value(s) 146, 2019254 written to C:\\Users\\local_miwvgej\\Desktop\\Wildfire_proj\\fireshapes_p\\146_2019254.shp.<br/>Value(s) 147, 2019248 written to C:\\Users\\local_miwvgej\\Desktop\\Wildfire_proj\\fireshapes_p\\147_2019248.shp.<br/>Value(s) 148, 2019272 written to C:\\Users\\local_miwvgej\\Desktop\\Wildfire_proj\\fireshapes_p\\148_2019272.shp.<br/>Value(s) 149, 2019248 written to C:\\Users\\local_miwvgej\\Desktop\\Wildfire_proj\\fireshapes_p\\149_2019248.shp.<br/>Value(s) 150, 2019160 written to C:\\Users\\local_miwvgej\\Desktop\\Wildfire_proj\\fireshapes_p\\150_2019160.shp.<br/>Value(s) 151, 2019176 written to C:\\Users\\local_miwvgej\\Desktop\\Wildfire_proj\\fireshapes_p\\151_2019176.shp.<br/>Value(s) 152, 2019190 written to C:\\Users\\local_miwvgej\\Desktop\\Wildfire_proj\\fireshapes_p\\152_2019190.shp.<br/>Value(s) 153, 2019210 written to C:\\Users\\local_miwvgej\\Desktop\\Wildfire_proj\\fireshapes_p\\153_2019210.shp.<br/>Value(s) 154, 2019244 written to C:\\Users\\local_miwvgej\\Desktop\\Wildfire_proj\\fireshapes_p\\154_2019244.shp.<br/>Value(s) 155, 2019245 written to C:\\Users\\local_miwvgej\\Desktop\\Wildfire_proj\\fireshapes_p\\155_2019245.shp.<br/>Value(s) 156, 2019281 written to C:\\Users\\local_miwvgej\\Desktop\\Wildfire_proj\\fireshapes_p\\156_2019281.shp.<br/>Value(s) 157, 2019297 written to C:\\Users\\local_miwvgej\\Desktop\\Wildfire_proj\\fireshapes_p\\157_2019297.shp.<br/>Value(s) 158, 2019266 written to C:\\Users\\local_miwvgej\\Desktop\\Wildfire_proj\\fireshapes_p\\158_2019266.shp.<br/>Value(s) 159, 2019196 written to C:\\Users\\local_miwvgej\\Desktop\\Wildfire_proj\\fireshapes_p\\159_2019196.shp.<br/>Value(s) 160, 2019153 written to C:\\Users\\local_miwvgej\\Desktop\\Wildfire_proj\\fireshapes_p\\160_2019153.shp.<br/>Value(s) 161, 2019266 written to C:\\Users\\local_miwvgej\\Desktop\\Wildfire_proj\\fireshapes_p\\161_2019266.shp.<br/>Value(s) 162, 2019247 written to C:\\Users\\local_miwvgej\\Desktop\\Wildfire_proj\\fireshapes_p\\162_2019247.shp.<br/>Value(s) 163, 2019294 written to C:\\Users\\local_miwvgej\\Desktop\\Wildfire_proj\\fireshapes_p\\163_2019294.shp.<br/>Value(s) 164, 2019172 written to C:\\Users\\local_miwvgej\\Desktop\\Wildfire_proj\\fireshapes_p\\164_2019172.shp.<br/>Value(s) 165, 2019074 written to C:\\Users\\local_miwvgej\\Desktop\\Wildfire_proj\\fireshapes_p\\165_2019074.shp.<br/>Value(s) 166, 2019197 written to C:\\Users\\local_miwvgej\\Desktop\\Wildfire_proj\\fireshapes_p\\166_2019197.shp.<br/>Value(s) 167, 2019283 written to C:\\Users\\local_miwvgej\\Desktop\\Wildfire_proj\\fireshapes_p\\167_2019283.shp.<br/>Value(s) 168, 2019247 written to C:\\Users\\local_miwvgej\\Desktop\\Wildfire_proj\\fireshapes_p\\168_2019247.shp.<br/>Value(s) 169, 2019217 written to C:\\Users\\local_miwvgej\\Desktop\\Wildfire_proj\\fireshapes_p\\169_2019217.shp.<br/>Value(s) 170, 2019255 written to C:\\Users\\local_miwvgej\\Desktop\\Wildfire_proj\\fireshapes_p\\170_2019255.shp.<br/>Value(s) 171, 2019177 written to C:\\Users\\local_miwvgej\\Desktop\\Wildfire_proj\\fireshapes_p\\171_2019177.shp.<br/>Value(s) 172, 2019150 written to C:\\Users\\local_miwvgej\\Desktop\\Wildfire_proj\\fireshapes_p\\172_2019150.shp.<br/>Value(s) 173, 2019184 written to C:\\Users\\local_miwvgej\\Desktop\\Wildfire_proj\\fireshapes_p\\173_2019184.shp.<br/>Value(s) 174, 2019213 written to C:\\Users\\local_miwvgej\\Desktop\\Wildfire_proj\\fireshapes_p\\174_2019213.shp.<br/>Value(s) 175, 2019214 written to C:\\Users\\local_miwvgej\\Desktop\\Wildfire_proj\\fireshapes_p\\175_2019214.shp.<br/>Value(s) 176, 2019214 written to C:\\Users\\local_miwvgej\\Desktop\\Wildfire_proj\\fireshapes_p\\176_2019214.shp.<br/>Value(s) 177, 2019214 written to C:\\Users\\local_miwvgej\\Desktop\\Wildfire_proj\\fireshapes_p\\177_2019214.shp.<br/>Value(s) 178, 2019160 written to C:\\Users\\local_miwvgej\\Desktop\\Wildfire_proj\\fireshapes_p\\178_2019160.shp.<br/>Value(s) 179, 2019159 written to C:\\Users\\local_miwvgej\\Desktop\\Wildfire_proj\\fireshapes_p\\179_2019159.shp.<br/>Value(s) 180, 2019175 written to C:\\Users\\local_miwvgej\\Desktop\\Wildfire_proj\\fireshapes_p\\180_2019175.shp.<br/>Value(s) 181, 2019177 written to C:\\Users\\local_miwvgej\\Desktop\\Wildfire_proj\\fireshapes_p\\181_2019177.shp.<br/>Value(s) 182, 2019159 written to C:\\Users\\local_miwvgej\\Desktop\\Wildfire_proj\\fireshapes_p\\182_2019159.shp.<br/>Value(s) 183, 2019228 written to C:\\Users\\local_miwvgej\\Desktop\\Wildfire_proj\\fireshapes_p\\183_2019228.shp.<br/>Value(s) 184, 2019279 written to C:\\Users\\local_miwvgej\\Desktop\\Wildfire_proj\\fireshapes_p\\184_2019279.shp.<br/>Value(s) 185, 2019227 written to C:\\Users\\local_miwvgej\\Desktop\\Wildfire_proj\\fireshapes_p\\185_2019227.shp.<br/>Value(s) 186, 2019208 written to C:\\Users\\local_miwvgej\\Desktop\\Wildfire_proj\\fireshapes_p\\186_2019208.shp.<br/>Value(s) 187, 2019300 written to C:\\Users\\local_miwvgej\\Desktop\\Wildfire_proj\\fireshapes_p\\187_2019300.shp.<br/>Value(s) 188, 2019224 written to C:\\Users\\local_miwvgej\\Desktop\\Wildfire_proj\\fireshapes_p\\188_2019224.shp.<br/>Value(s) 189, 2019156 written to C:\\Users\\local_miwvgej\\Desktop\\Wildfire_proj\\fireshapes_p\\189_2019156.shp.<br/>Value(s) 190, 2019196 written to C:\\Users\\local_miwvgej\\Desktop\\Wildfire_proj\\fireshapes_p\\190_2019196.shp.<br/>Value(s) 191, 2019264 written to C:\\Users\\local_miwvgej\\Desktop\\Wildfire_proj\\fireshapes_p\\191_2019264.shp.<br/>Value(s) 192, 2019161 written to C:\\Users\\local_miwvgej\\Desktop\\Wildfire_proj\\fireshapes_p\\192_2019161.shp.<br/>Value(s) 193, 2019163 written to C:\\Users\\local_miwvgej\\Desktop\\Wildfire_proj\\fireshapes_p\\193_2019163.shp.<br/>Value(s) 194, 2019189 written to C:\\Users\\local_miwvgej\\Desktop\\Wildfire_proj\\fireshapes_p\\194_2019189.shp.<br/>Value(s) 195, 2019149 written to C:\\Users\\local_miwvgej\\Desktop\\Wildfire_proj\\fireshapes_p\\195_2019149.shp.<br/>Value(s) 196, 2019205 written to C:\\Users\\local_miwvgej\\Desktop\\Wildfire_proj\\fireshapes_p\\196_2019205.shp.<br/>Value(s) 197, 2019236 written to C:\\Users\\local_miwvgej\\Desktop\\Wildfire_proj\\fireshapes_p\\197_2019236.shp.<br/>Value(s) 198, 2019247 written to C:\\Users\\local_miwvgej\\Desktop\\Wildfire_proj\\fireshapes_p\\198_2019247.shp.<br/>Value(s) 199, 2019206 written to C:\\Users\\local_miwvgej\\Desktop\\Wildfire_proj\\fireshapes_p\\199_2019206.shp.<br/>Value(s) 200, 2019207 written to C:\\Users\\local_miwvgej\\Desktop\\Wildfire_proj\\fireshapes_p\\200_2019207.shp.<br/>Value(s) 201, 2019160 written to C:\\Users\\local_miwvgej\\Desktop\\Wildfire_proj\\fireshapes_p\\201_2019160.shp.<br/>Value(s) 202, 2019215 written to C:\\Users\\local_miwvgej\\Desktop\\Wildfire_proj\\fireshapes_p\\202_2019215.shp.<br/>Value(s) 203, 2019211 written to C:\\Users\\local_miwvgej\\Desktop\\Wildfire_proj\\fireshapes_p\\203_2019211.shp.<br/>Value(s) 204, 2019210 written to C:\\Users\\local_miwvgej\\Desktop\\Wildfire_proj\\fireshapes_p\\204_2019210.shp.<br/>Value(s) 205, 2019244 written to C:\\Users\\local_miwvgej\\Desktop\\Wildfire_proj\\fireshapes_p\\205_2019244.shp.<br/>Value(s) 206, 2019329 written to C:\\Users\\local_miwvgej\\Desktop\\Wildfire_proj\\fireshapes_p\\206_2019329.shp.<br/>Value(s) 207, 2019304 written to C:\\Users\\local_miwvgej\\Desktop\\Wildfire_proj\\fireshapes_p\\207_2019304.shp.<br/>Value(s) 208, 2019258 written to C:\\Users\\local_miwvgej\\Desktop\\Wildfire_proj\\fireshapes_p\\208_2019258.shp.<br/>Value(s) 209, 2019278 written to C:\\Users\\local_miwvgej\\Desktop\\Wildfire_proj\\fireshapes_p\\209_2019278.shp.<br/>Value(s) 210, 2019251 written to C:\\Users\\local_miwvgej\\Desktop\\Wildfire_proj\\fireshapes_p\\210_2019251.shp.<br/>Value(s) 211, 2019220 written to C:\\Users\\local_miwvgej\\Desktop\\Wildfire_proj\\fireshapes_p\\211_2019220.shp.<br/>Value(s) 212, 2019169 written to C:\\Users\\local_miwvgej\\Desktop\\Wildfire_proj\\fireshapes_p\\212_2019169.shp.<br/>Value(s) 213, 2019130 written to C:\\Users\\local_miwvgej\\Desktop\\Wildfire_proj\\fireshapes_p\\213_2019130.shp.<br/>Value(s) 214, 2019143 written to C:\\Users\\local_miwvgej\\Desktop\\Wildfire_proj\\fireshapes_p\\214_2019143.shp.<br/>Value(s) 215, 2019260 written to C:\\Users\\local_miwvgej\\Desktop\\Wildfire_proj\\fireshapes_p\\215_2019260.shp.<br/>Value(s) 216, 2019283 written to C:\\Users\\local_miwvgej\\Desktop\\Wildfire_proj\\fireshapes_p\\216_2019283.shp.<br/>Value(s) 217, 2019301 written to C:\\Users\\local_miwvgej\\Desktop\\Wildfire_proj\\fireshapes_p\\217_2019301.shp.<br/>Value(s) 218, 2019303 written to C:\\Users\\local_miwvgej\\Desktop\\Wildfire_proj\\fireshapes_p\\218_2019303.shp.<br/>Value(s) 219, 2019297 written to C:\\Users\\local_miwvgej\\Desktop\\Wildfire_proj\\fireshapes_p\\219_2019297.shp.<br/>Value(s) 220, 2019283 written to C:\\Users\\local_miwvgej\\Desktop\\Wildfire_proj\\fireshapes_p\\220_2019283.shp.<br/>Value(s) 221, 2019313 written to C:\\Users\\local_miwvgej\\Desktop\\Wildfire_proj\\fireshapes_p\\221_2019313.shp.<br/>Value(s) 222, 2019283 written to C:\\Users\\local_miwvgej\\Desktop\\Wildfire_proj\\fireshapes_p\\222_2019283.shp.<br/>Succeeded at Sunday, April 4, 2021 2:16:06 PM (Elapsed Time: 44.25 seconds)<br/><style>.rendered_html td, .rendered_html th {text-align: left;}.rendered_html tbody {border: 1px solid black;}</style>"
      ],
      "text/plain": [
       "<Result 'C:\\\\Users\\\\local_miwvgej\\\\Desktop\\\\Wildfire_proj\\\\fireshapes_p'>"
      ]
     },
     "execution_count": 14,
     "metadata": {},
     "output_type": "execute_result"
    }
   ],
   "source": [
    "# Split the fire parimeters by their ObjectID and Text_Date fields.\n",
    "#This will create a new shapefile for each fire and include the start date in the name\n",
    "\n",
    "fc = r'C:\\Users\\local_miwvgej\\Documents\\ArcGIS\\Projects\\Calfire\\Calfire.gdb\\fire_parimeters'\n",
    "outloc = r'C:\\Users\\local_miwvgej\\Desktop\\Wildfire_proj\\fireshapes_p'\n",
    "field_list = ['OBJECTID', 'TEXT_DATE']\n",
    "\n",
    "arcpy.SplitByAttributes_analysis(fc, outloc, field_list)"
   ]
  },
  {
   "cell_type": "markdown",
   "metadata": {},
   "source": [
    "This is where I stopped working in python on this project and switched to command line and R. I was struggling to get gdal to load on my computer."
   ]
  },
  {
   "cell_type": "markdown",
   "metadata": {},
   "source": [
    "Following this, I projected the tif files, then ran the for loops to match the fire parameters to the tifs."
   ]
  },
  {
   "cell_type": "code",
   "execution_count": null,
   "metadata": {},
   "outputs": [],
   "source": [
    "#An example of what the making loop should look like in Python\n",
    "\n",
    "import os\n",
    "\n",
    "pathname1 = \"path1\"\n",
    "pathname2 = \"path2\"\n",
    "uniquecharacters   = 5  # defines how many characters at the end of the string are unique. \n",
    "\n",
    "matches = 0 \n",
    "for item1 in os.listdir(pathname1):    \n",
    "    for item2 in os.listdir(pathname2):\n",
    "        print item1 \n",
    "        print item2\n",
    "        if item1.startswith(item2[:-uniquecharacters]):\n",
    "            print \"we have a match\"\n",
    "            matches = matches + 1 \n",
    "\n",
    "print \"we have %s match(es)\" %( matches )    "
   ]
  },
  {
   "cell_type": "markdown",
   "metadata": {},
   "source": [
    "Data Extrapolation--Predict temporal (trend) extrapolation method. They say this is a critical step. I have no idea how to do this in python.\n",
    "\n",
    "Watch this video: https://www.youtube.com/watch?v=j15MryznWn4"
   ]
  },
  {
   "cell_type": "markdown",
   "metadata": {},
   "source": [
    "Data extraction they use PIL Python Imaging Library. Load the images, read the images, then extract their pix by pix values into a CSV. Each time set will be labeled, fire/no fire."
   ]
  }
 ],
 "metadata": {
  "kernelspec": {
   "display_name": "Python 3 (ipykernel)",
   "language": "python",
   "name": "python3"
  },
  "language_info": {
   "codemirror_mode": {
    "name": "ipython",
    "version": 3
   },
   "file_extension": ".py",
   "mimetype": "text/x-python",
   "name": "python",
   "nbconvert_exporter": "python",
   "pygments_lexer": "ipython3",
   "version": "3.8.3"
  }
 },
 "nbformat": 4,
 "nbformat_minor": 4
}
