{
 "cells": [
  {
   "cell_type": "markdown",
   "metadata": {},
   "source": [
    "# Creating a Heat Map using Folium\n",
    "## by Amber Benbow\n",
    "\n",
    "I wanted to create a tutorial that walked a user through how to do a time lapse heat map in Folium closely following the example on https://towardsdatascience.com/data-101s-spatial-visualizations-and-analysis-in-python-with-folium-39730da2adf. I did not do all of the steps verbatim and made changes to my code so that it would be a simpler exercise.\n",
    "\n",
    "In the following, you will learn how to convert a csv file to a Pandas data frame, isolate parts of a date/time field to use for analysis, and display a fully rendered heat map using an html file.\n",
    "\n",
    "### Additional Information\n",
    "\n",
    "  * https://pandas.pydata.org/pandas-docs/stable/reference/api/pandas.to_datetime.html\n",
    "  * https://alysivji.github.io/getting-started-with-folium.html\n",
    "  * https://python-visualization.github.io/folium/plugins.html\n",
    "  * https://python-visualization.github.io/folium/quickstart.html\n",
    "  \n",
    "  "
   ]
  },
  {
   "cell_type": "markdown",
   "metadata": {},
   "source": [
    "### Before we start\n",
    "Begin by downloading the 'train.csv' from the Kaggle website: https://www.kaggle.com/c/nyc-taxi-trip-duration/data"
   ]
  },
  {
   "cell_type": "markdown",
   "metadata": {},
   "source": [
    "## The Basics"
   ]
  },
  {
   "cell_type": "code",
   "execution_count": null,
   "metadata": {},
   "outputs": [],
   "source": [
    "#importing libraries\n",
    "import folium as f\n",
    "from folium import plugins\n",
    "import pandas as pd"
   ]
  },
  {
   "cell_type": "code",
   "execution_count": null,
   "metadata": {
    "scrolled": true
   },
   "outputs": [],
   "source": [
    "#accessing the data and displaying it in a dataframe\n",
    "ny_taxi_trips = pd.read_csv('train.csv')\n",
    "ny_taxi_trips"
   ]
  },
  {
   "cell_type": "code",
   "execution_count": null,
   "metadata": {},
   "outputs": [],
   "source": [
    "#splitting out the month, week, day and hour from the pickup_datetime column to do further analysis (like maybe one day a time series heatmap)\n",
    "\n",
    "ny_taxi_trips.pickup_datetime = pd.to_datetime(ny_taxi_trips.pickup_datetime, format='%Y-%m-%d %H:%M:%S')\n",
    "ny_taxi_trips['month'] = ny_taxi_trips.pickup_datetime.apply(lambda x: x.month)\n",
    "ny_taxi_trips['week'] = ny_taxi_trips.pickup_datetime.apply(lambda x: x.week)\n",
    "ny_taxi_trips['day'] = ny_taxi_trips.pickup_datetime.apply(lambda x: x.day)\n",
    "ny_taxi_trips['hour'] = ny_taxi_trips.pickup_datetime.apply(lambda x: x.hour)"
   ]
  },
  {
   "cell_type": "code",
   "execution_count": null,
   "metadata": {},
   "outputs": [],
   "source": [
    "#taking a look at the new calculated fields\n",
    "ny_taxi_trips.head()\n"
   ]
  },
  {
   "cell_type": "code",
   "execution_count": null,
   "metadata": {
    "scrolled": true
   },
   "outputs": [],
   "source": [
    "#creating a basemap of the area \n",
    "\n",
    "m = f.Map(location=[40.693943, -73.985880], zoom_start=12)\n",
    "m"
   ]
  },
  {
   "cell_type": "code",
   "execution_count": null,
   "metadata": {},
   "outputs": [],
   "source": [
    "#isolating only trips that occured only in May. \n",
    "#adding a count column so the heatmap has a value to render\n",
    "ny_taxi_trips2 = ny_taxi_trips[ny_taxi_trips.month==5].copy()\n",
    "ny_taxi_trips2['count'] = 1\n",
    "\n",
    "ny_taxi_trips2\n"
   ]
  },
  {
   "cell_type": "code",
   "execution_count": null,
   "metadata": {},
   "outputs": [],
   "source": [
    "#now I am assigning the columns that will be used to render the heatmap, however, I cannot get past this point as the heatmap will not render in Juptyer. \n",
    "#the code is not throwing an error, it is simply blank.\n",
    "\n",
    "ny_display = ny_taxi_trips2[['pickup_latitude', 'pickup_longitude']].values\n",
    "\n",
    "# plotting heatmap\n",
    "m.add_child(plugins.HeatMap(ny_display, radius=15))"
   ]
  },
  {
   "cell_type": "code",
   "execution_count": null,
   "metadata": {},
   "outputs": [],
   "source": [
    "#since the heatmap was too large to render in Juptyer, I saved it to an html file.\n",
    "#clicking on the file in the data folder loads it in a browser tab\n",
    "\n",
    "m.save('mymap.html')"
   ]
  }
 ],
 "metadata": {
  "kernelspec": {
   "display_name": "Python 3",
   "language": "python",
   "name": "python3"
  },
  "language_info": {
   "codemirror_mode": {
    "name": "ipython",
    "version": 3
   },
   "file_extension": ".py",
   "mimetype": "text/x-python",
   "name": "python",
   "nbconvert_exporter": "python",
   "pygments_lexer": "ipython3",
   "version": "3.8.3"
  }
 },
 "nbformat": 4,
 "nbformat_minor": 2
}
